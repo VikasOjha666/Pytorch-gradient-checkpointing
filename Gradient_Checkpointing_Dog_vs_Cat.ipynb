{
  "nbformat": 4,
  "nbformat_minor": 0,
  "metadata": {
    "colab": {
      "provenance": []
    },
    "kernelspec": {
      "name": "python3",
      "display_name": "Python 3"
    },
    "language_info": {
      "name": "python"
    },
    "accelerator": "GPU",
    "gpuClass": "standard"
  },
  "cells": [
    {
      "cell_type": "markdown",
      "source": [
        "### Note: Do not run the both training cells one after another as the nvidia-smi might take the value of previous run and you might be confused that gradient checkpointing is consuming same memory."
      ],
      "metadata": {
        "id": "LppzUX-Keznf"
      }
    },
    {
      "cell_type": "code",
      "source": [
        "!pip install nvidia-ml-py3"
      ],
      "metadata": {
        "colab": {
          "base_uri": "https://localhost:8080/"
        },
        "id": "9rad0Q4CfFCh",
        "outputId": "340e89ad-fa36-4524-93c0-d3629fcde7fe"
      },
      "execution_count": 1,
      "outputs": [
        {
          "output_type": "stream",
          "name": "stdout",
          "text": [
            "Looking in indexes: https://pypi.org/simple, https://us-python.pkg.dev/colab-wheels/public/simple/\n",
            "Requirement already satisfied: nvidia-ml-py3 in /usr/local/lib/python3.8/dist-packages (7.352.0)\n"
          ]
        }
      ]
    },
    {
      "cell_type": "code",
      "source": [
        "!git clone https://github.com/laxmimerit/dog-cat-full-dataset.git"
      ],
      "metadata": {
        "colab": {
          "base_uri": "https://localhost:8080/"
        },
        "id": "WTV4tY15fM8c",
        "outputId": "294e8b06-b2b5-40b0-e49f-109e03a51943"
      },
      "execution_count": 2,
      "outputs": [
        {
          "output_type": "stream",
          "name": "stdout",
          "text": [
            "fatal: destination path 'dog-cat-full-dataset' already exists and is not an empty directory.\n"
          ]
        }
      ]
    },
    {
      "cell_type": "code",
      "source": [
        "#All library imports.\n",
        "import torch\n",
        "import torch.nn as nn\n",
        "import torch.optim as optim\n",
        "import numpy as np\n",
        "from torchvision import datasets, models, transforms\n",
        "import matplotlib.pyplot as plt\n",
        "import time\n",
        "import os\n",
        "import cv2\n",
        "import nvidia_smi\n",
        "import copy\n",
        "from PIL import Image\n",
        "from torch.utils.data import Dataset,DataLoader\n",
        "import torch.utils.checkpoint as checkpoint\n",
        "from tqdm import tqdm\n",
        "import shutil\n",
        "from torch.utils.checkpoint import checkpoint_sequential\n",
        "device=\"cuda\" if torch.cuda.is_available() else \"cpu\"\n",
        "%matplotlib inline\n",
        "import random\n",
        "\n",
        "nvidia_smi.nvmlInit()\n"
      ],
      "metadata": {
        "id": "GN8FZVZTpcCv"
      },
      "execution_count": 1,
      "outputs": []
    },
    {
      "cell_type": "code",
      "source": [
        "#Define the dataset and the dataloader.\n",
        "train_dataset=datasets.ImageFolder(root=\"/content/dog-cat-full-dataset/data/train\",\n",
        "                            transform=transforms.Compose([\n",
        "                                transforms.RandomRotation(30),\n",
        "                                transforms.RandomHorizontalFlip(),\n",
        "                                transforms.RandomResizedCrop(224, scale=(0.96, 1.0), ratio=(0.95, 1.05)),\n",
        "                                transforms.ToTensor(),\n",
        "                                transforms.Normalize([0.485, 0.456, 0.406], [0.229, 0.224, 0.225])\n",
        "                            ]))\n",
        "\n",
        "val_dataset=datasets.ImageFolder(root=\"/content/dog-cat-full-dataset/data/test\",\n",
        "                            transform=transforms.Compose([\n",
        "                                transforms.Resize([224, 224]),\n",
        "                                transforms.ToTensor(),\n",
        "                                transforms.Normalize([0.485, 0.456, 0.406], [0.229, 0.224, 0.225]),\n",
        "                            ]))\n",
        "\n",
        "train_dataloader=DataLoader(train_dataset,\n",
        "                            batch_size=64,\n",
        "                            shuffle=True,\n",
        "                            num_workers=2)\n",
        "\n",
        "val_dataloader=DataLoader(val_dataset,\n",
        "                            batch_size=64,\n",
        "                            shuffle=True,\n",
        "                            num_workers=2)"
      ],
      "metadata": {
        "id": "CFTQ3KDECWXH"
      },
      "execution_count": 2,
      "outputs": []
    },
    {
      "cell_type": "code",
      "source": [
        "def train_with_grad_checkpointing(model,loss_func,optimizer,train_dataloader,val_dataloader,epochs=10):\n",
        "   \n",
        "\n",
        " \n",
        "    #Training loop.\n",
        "    for epoch in range(epochs):\n",
        "      model.train()\n",
        "      for images, target in tqdm(train_dataloader):\n",
        "          images, target = images.to(device), target.to(device)\n",
        "          images.requires_grad=True\n",
        "          optimizer.zero_grad()\n",
        "          #Applying gradient checkpointing\n",
        "          segments = 2\n",
        "\n",
        "          # get the modules in the model. These modules should be in the order\n",
        "          # the model should be executed\n",
        "          modules = [module for k, module in model._modules.items()]\n",
        "\n",
        "          # now call the checkpoint API and get the output\n",
        "          output = checkpoint_sequential(modules, segments, images)\n",
        "          loss = loss_func(output, target)\n",
        "          loss.backward()\n",
        "          optimizer.step()\n",
        "      if os.path.exists('checkpoints/') is False:\n",
        "        os.mkdir('checkpoints')\n",
        "      torch.save(model.state_dict(), 'checkpoints/epoch_'+str(epoch)+'.pt')\n",
        "\n",
        "\n",
        "      #Test the model on validation data.\n",
        "      train_acc,train_loss=test_model(model,train_dataloader)\n",
        "      val_acc,val_loss=test_model(model,val_dataloader)\n",
        "\n",
        "      #Check memory.\n",
        "      handle = nvidia_smi.nvmlDeviceGetHandleByIndex(0)\n",
        "      info = nvidia_smi.nvmlDeviceGetMemoryInfo(handle)\n",
        "      memory_used=info.used\n",
        "      memory_used=(memory_used/1024)/1024\n",
        "\n",
        "      print(f\"Epoch={epoch} Train Accuracy={train_acc} Train loss={train_loss} Validation accuracy={val_acc} Validation loss={val_loss} Memory used={memory_used} MB\")\n",
        "\n",
        "\n",
        "def train_model(model,loss_func,optimizer,train_dataloader,val_dataloader,epochs=10):\n",
        "\n",
        "    model.train()\n",
        "    #Training loop.\n",
        "    for epoch in range(epochs):\n",
        "      model.train()\n",
        "      for images, target in tqdm(train_dataloader):\n",
        "          images, target = images.to(device), target.to(device)\n",
        "          images.requires_grad=True\n",
        "          optimizer.zero_grad()\n",
        "          output = model(images)\n",
        "          loss = loss_func(output, target)\n",
        "          loss.backward()\n",
        "          optimizer.step()\n",
        "      if os.path.exists('grad_checkpoints/') is False:\n",
        "        os.mkdir('grad_checkpoints')\n",
        "      torch.save(model.state_dict(), 'grad_checkpoints/epoch_'+str(epoch)+'.pt')\n",
        "\n",
        "\n",
        "      #Test the model on validation data.\n",
        "      train_acc,train_loss=test_model(model,train_dataloader)\n",
        "      val_acc,val_loss=test_model(model,val_dataloader)\n",
        "\n",
        "      #Check memory usage.\n",
        "      handle = nvidia_smi.nvmlDeviceGetHandleByIndex(0)\n",
        "      info = nvidia_smi.nvmlDeviceGetMemoryInfo(handle)\n",
        "      memory_used=info.used\n",
        "      memory_used=(memory_used/1024)/1024\n",
        "\n",
        "      print(f\"Epoch={epoch} Train Accuracy={train_acc} Train loss={train_loss} Validation accuracy={val_acc} Validation loss={val_loss} Memory used={memory_used} MB\")\n",
        "\n",
        "\n",
        "\n",
        "def test_model(model,val_dataloader):\n",
        "  model.eval()\n",
        "  test_loss = 0\n",
        "  correct = 0\n",
        "  with torch.no_grad():\n",
        "      for images, target in val_dataloader:\n",
        "          images, target = images.to(device), target.to(device)\n",
        "          output = model(images)\n",
        "          test_loss += loss_func(output, target).data.item()\n",
        "          _, predicted = torch.max(output, 1)\n",
        "          correct += (predicted == target).sum().item()\n",
        "  \n",
        "  test_loss /= len(val_dataloader.dataset)\n",
        "\n",
        "  return int(correct / len(val_dataloader.dataset) * 100),test_loss\n",
        "\n",
        "    \n"
      ],
      "metadata": {
        "id": "FBnlkkJOKEQ0"
      },
      "execution_count": 3,
      "outputs": []
    },
    {
      "cell_type": "code",
      "source": [],
      "metadata": {
        "id": "wZsdsWr0WEcp"
      },
      "execution_count": null,
      "outputs": []
    },
    {
      "cell_type": "code",
      "source": [
        "#Define the model,loss and optimizer and train the model\n",
        "\n",
        "torch.manual_seed(0)\n",
        "\n",
        "lr = 0.003\n",
        "\n",
        "# model = models.resnet50()\n",
        "# model=model.to(device)\n",
        "\n",
        "vgg16=models.vgg16()\n",
        "vgg_layers_list=list(vgg16.children())[:-1]\n",
        "vgg_layers_list.append(nn.Flatten())\n",
        "vgg_layers_list.append(nn.Linear(25088,4096))\n",
        "vgg_layers_list.append(nn.ReLU())\n",
        "vgg_layers_list.append(nn.Dropout(0.5,inplace=False))\n",
        "vgg_layers_list.append(nn.Linear(4096,4096))\n",
        "vgg_layers_list.append(nn.ReLU())\n",
        "vgg_layers_list.append(nn.Dropout(0.5,inplace=False))\n",
        "vgg_layers_list.append(nn.Linear(4096,2))\n",
        "model = nn.Sequential(*vgg_layers_list)\n",
        "model=model.to(device)\n",
        "\n",
        "\n",
        "\n",
        "\n",
        "num_epochs=10\n",
        "\n",
        "#Loss\n",
        "loss_func = nn.CrossEntropyLoss()\n",
        "\n",
        "# Optimizer \n",
        "# optimizer = optim.Adam(model.parameters(), lr=lr, weight_decay=1e-5)\n",
        "optimizer = optim.SGD(params=model.parameters(), lr=0.001, momentum=0.9)\n",
        "\n",
        "\n",
        "#Fitting the model.\n",
        "model = train_model(model, loss_func, optimizer,\n",
        "                       train_dataloader,val_dataloader,num_epochs)\n",
        "\n"
      ],
      "metadata": {
        "id": "7hNFzQk2Sw8I",
        "colab": {
          "base_uri": "https://localhost:8080/"
        },
        "outputId": "98db4729-082f-4a8e-b706-a77913677f1d"
      },
      "execution_count": null,
      "outputs": [
        {
          "output_type": "stream",
          "name": "stderr",
          "text": [
            "100%|██████████| 313/313 [04:47<00:00,  1.09it/s]\n"
          ]
        },
        {
          "output_type": "stream",
          "name": "stdout",
          "text": [
            "Epoch=0 Train Accuracy=58 Train loss=0.010537974041700364 Validation accuracy=60 Validation loss=0.010591725468635559 Memory used=14222.125 MB\n"
          ]
        },
        {
          "output_type": "stream",
          "name": "stderr",
          "text": [
            "100%|██████████| 313/313 [05:02<00:00,  1.03it/s]\n"
          ]
        },
        {
          "output_type": "stream",
          "name": "stdout",
          "text": [
            "Epoch=1 Train Accuracy=56 Train loss=0.010523867833614349 Validation accuracy=59 Validation loss=0.01050753378868103 Memory used=14222.125 MB\n"
          ]
        },
        {
          "output_type": "stream",
          "name": "stderr",
          "text": [
            "100%|██████████| 313/313 [05:04<00:00,  1.03it/s]\n"
          ]
        },
        {
          "output_type": "stream",
          "name": "stdout",
          "text": [
            "Epoch=2 Train Accuracy=63 Train loss=0.009880178460478783 Validation accuracy=60 Validation loss=0.010314488422870636 Memory used=14222.125 MB\n"
          ]
        },
        {
          "output_type": "stream",
          "name": "stderr",
          "text": [
            "100%|██████████| 313/313 [05:01<00:00,  1.04it/s]\n"
          ]
        },
        {
          "output_type": "stream",
          "name": "stdout",
          "text": [
            "Epoch=3 Train Accuracy=69 Train loss=0.009104096573591233 Validation accuracy=67 Validation loss=0.009390122538805008 Memory used=14222.125 MB\n"
          ]
        },
        {
          "output_type": "stream",
          "name": "stderr",
          "text": [
            "100%|██████████| 313/313 [05:01<00:00,  1.04it/s]\n"
          ]
        },
        {
          "output_type": "stream",
          "name": "stdout",
          "text": [
            "Epoch=4 Train Accuracy=72 Train loss=0.008648773723840713 Validation accuracy=70 Validation loss=0.008878046506643296 Memory used=14222.125 MB\n"
          ]
        },
        {
          "output_type": "stream",
          "name": "stderr",
          "text": [
            "100%|██████████| 313/313 [05:02<00:00,  1.03it/s]\n"
          ]
        },
        {
          "output_type": "stream",
          "name": "stdout",
          "text": [
            "Epoch=5 Train Accuracy=66 Train loss=0.009526893058419228 Validation accuracy=62 Validation loss=0.01051809189915657 Memory used=14222.125 MB\n"
          ]
        },
        {
          "output_type": "stream",
          "name": "stderr",
          "text": [
            "100%|██████████| 313/313 [05:01<00:00,  1.04it/s]\n"
          ]
        },
        {
          "output_type": "stream",
          "name": "stdout",
          "text": [
            "Epoch=6 Train Accuracy=74 Train loss=0.008127348774671554 Validation accuracy=75 Validation loss=0.00794955143928528 Memory used=14222.125 MB\n"
          ]
        },
        {
          "output_type": "stream",
          "name": "stderr",
          "text": [
            "100%|██████████| 313/313 [05:02<00:00,  1.04it/s]\n"
          ]
        },
        {
          "output_type": "stream",
          "name": "stdout",
          "text": [
            "Epoch=7 Train Accuracy=75 Train loss=0.007835089820623397 Validation accuracy=73 Validation loss=0.008243390429019929 Memory used=14222.125 MB\n"
          ]
        },
        {
          "output_type": "stream",
          "name": "stderr",
          "text": [
            "100%|██████████| 313/313 [05:03<00:00,  1.03it/s]\n"
          ]
        },
        {
          "output_type": "stream",
          "name": "stdout",
          "text": [
            "Epoch=8 Train Accuracy=74 Train loss=0.008096014150977134 Validation accuracy=76 Validation loss=0.00776103823184967 Memory used=14222.125 MB\n"
          ]
        },
        {
          "output_type": "stream",
          "name": "stderr",
          "text": [
            "100%|██████████| 313/313 [05:10<00:00,  1.01it/s]\n"
          ]
        },
        {
          "output_type": "stream",
          "name": "stdout",
          "text": [
            "Epoch=9 Train Accuracy=79 Train loss=0.006945362535119057 Validation accuracy=79 Validation loss=0.007098762637376786 Memory used=14222.125 MB\n"
          ]
        }
      ]
    },
    {
      "cell_type": "code",
      "source": [
        "#Define the model,loss and optimizer and train the model\n",
        "\n",
        "torch.manual_seed(0)\n",
        "\n",
        "lr = 0.003\n",
        "\n",
        "# model = models.resnet50()\n",
        "# model=model.to(device)\n",
        "\n",
        "vgg16=models.vgg16()\n",
        "vgg_layers_list=list(vgg16.children())[:-1]\n",
        "vgg_layers_list.append(nn.Flatten())\n",
        "vgg_layers_list.append(nn.Linear(25088,4096))\n",
        "vgg_layers_list.append(nn.ReLU())\n",
        "vgg_layers_list.append(nn.Dropout(0.5,inplace=False))\n",
        "vgg_layers_list.append(nn.Linear(4096,4096))\n",
        "vgg_layers_list.append(nn.ReLU())\n",
        "vgg_layers_list.append(nn.Dropout(0.5,inplace=False))\n",
        "vgg_layers_list.append(nn.Linear(4096,2))\n",
        "model = nn.Sequential(*vgg_layers_list)\n",
        "model=model.to(device)\n",
        "\n",
        "\n",
        "\n",
        "\n",
        "num_epochs=10\n",
        "\n",
        "#Loss\n",
        "loss_func = nn.CrossEntropyLoss()\n",
        "\n",
        "# Optimizer \n",
        "# optimizer = optim.Adam(model.parameters(), lr=lr, weight_decay=1e-5)\n",
        "optimizer = optim.SGD(params=model.parameters(), lr=0.001, momentum=0.9)\n",
        "\n",
        "\n",
        "#Fitting the model.\n",
        "model = train_with_grad_checkpointing(model, loss_func, optimizer,\n",
        "                       train_dataloader,val_dataloader,num_epochs)\n",
        "\n"
      ],
      "metadata": {
        "id": "d9X_RjZieaVn",
        "colab": {
          "base_uri": "https://localhost:8080/"
        },
        "outputId": "32897837-ce62-4f7a-8755-befb8575d14c"
      },
      "execution_count": 4,
      "outputs": [
        {
          "metadata": {
            "tags": null
          },
          "name": "stderr",
          "output_type": "stream",
          "text": [
            "100%|██████████| 313/313 [06:44<00:00,  1.29s/it]\n"
          ]
        },
        {
          "metadata": {
            "tags": null
          },
          "name": "stdout",
          "output_type": "stream",
          "text": [
            "Epoch=0 Train Accuracy=59 Train loss=0.010533255109190941 Validation accuracy=61 Validation loss=0.010588853204250336 Memory used=10550.125 MB\n"
          ]
        },
        {
          "metadata": {
            "tags": null
          },
          "name": "stderr",
          "output_type": "stream",
          "text": [
            "100%|██████████| 313/313 [06:41<00:00,  1.28s/it]\n"
          ]
        },
        {
          "output_type": "stream",
          "name": "stdout",
          "text": [
            "Epoch=1 Train Accuracy=60 Train loss=0.010360798668861389 Validation accuracy=63 Validation loss=0.010376701986789704 Memory used=10550.125 MB\n"
          ]
        },
        {
          "output_type": "stream",
          "name": "stderr",
          "text": [
            "100%|██████████| 313/313 [06:43<00:00,  1.29s/it]\n"
          ]
        },
        {
          "output_type": "stream",
          "name": "stdout",
          "text": [
            "Epoch=2 Train Accuracy=63 Train loss=0.00989786814749241 Validation accuracy=60 Validation loss=0.010341400074958802 Memory used=10550.125 MB\n"
          ]
        },
        {
          "output_type": "stream",
          "name": "stderr",
          "text": [
            "100%|██████████| 313/313 [06:43<00:00,  1.29s/it]\n"
          ]
        },
        {
          "output_type": "stream",
          "name": "stdout",
          "text": [
            "Epoch=3 Train Accuracy=70 Train loss=0.009069903796911239 Validation accuracy=67 Validation loss=0.009372828048467636 Memory used=10550.125 MB\n"
          ]
        },
        {
          "output_type": "stream",
          "name": "stderr",
          "text": [
            "100%|██████████| 313/313 [06:43<00:00,  1.29s/it]\n"
          ]
        },
        {
          "output_type": "stream",
          "name": "stdout",
          "text": [
            "Epoch=4 Train Accuracy=72 Train loss=0.008637868346273898 Validation accuracy=71 Validation loss=0.00886544327735901 Memory used=10550.125 MB\n"
          ]
        },
        {
          "output_type": "stream",
          "name": "stderr",
          "text": [
            "100%|██████████| 313/313 [06:44<00:00,  1.29s/it]\n"
          ]
        },
        {
          "output_type": "stream",
          "name": "stdout",
          "text": [
            "Epoch=5 Train Accuracy=68 Train loss=0.009268309929966927 Validation accuracy=63 Validation loss=0.010140820240974426 Memory used=10550.125 MB\n"
          ]
        },
        {
          "output_type": "stream",
          "name": "stderr",
          "text": [
            "100%|██████████| 313/313 [06:45<00:00,  1.29s/it]\n"
          ]
        },
        {
          "output_type": "stream",
          "name": "stdout",
          "text": [
            "Epoch=6 Train Accuracy=74 Train loss=0.008132873253524303 Validation accuracy=76 Validation loss=0.007947488868236543 Memory used=10550.125 MB\n"
          ]
        },
        {
          "output_type": "stream",
          "name": "stderr",
          "text": [
            "100%|██████████| 313/313 [06:45<00:00,  1.30s/it]\n"
          ]
        },
        {
          "output_type": "stream",
          "name": "stdout",
          "text": [
            "Epoch=7 Train Accuracy=75 Train loss=0.00785558657348156 Validation accuracy=74 Validation loss=0.008125495082139968 Memory used=10550.125 MB\n"
          ]
        },
        {
          "output_type": "stream",
          "name": "stderr",
          "text": [
            "100%|██████████| 313/313 [06:45<00:00,  1.30s/it]\n"
          ]
        },
        {
          "output_type": "stream",
          "name": "stdout",
          "text": [
            "Epoch=8 Train Accuracy=74 Train loss=0.007979773138463497 Validation accuracy=76 Validation loss=0.0076255324840545655 Memory used=10550.125 MB\n"
          ]
        },
        {
          "output_type": "stream",
          "name": "stderr",
          "text": [
            "100%|██████████| 313/313 [06:45<00:00,  1.30s/it]\n"
          ]
        },
        {
          "output_type": "stream",
          "name": "stdout",
          "text": [
            "Epoch=9 Train Accuracy=79 Train loss=0.00688817176669836 Validation accuracy=79 Validation loss=0.00707613160610199 Memory used=10550.125 MB\n"
          ]
        }
      ]
    }
  ]
}